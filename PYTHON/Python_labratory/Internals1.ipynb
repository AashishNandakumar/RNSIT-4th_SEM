{
 "cells": [
  {
   "cell_type": "code",
   "execution_count": 5,
   "id": "13f19558",
   "metadata": {},
   "outputs": [
    {
     "name": "stdout",
     "output_type": "stream",
     "text": [
      "Enter test 1 marks: 25\n",
      "Enter test 2 marks: 25\n",
      "Enter test 3 marks: 25\n",
      "The average of best two test marks:  25.0\n"
     ]
    }
   ],
   "source": [
    "# 1a) best of 2 test average\n",
    "a = int(input(\"Enter test 1 marks: \"))\n",
    "b = int(input(\"Enter test 2 marks: \"))\n",
    "c = int(input(\"Enter test 3 marks: \"))\n",
    "\n",
    "# avgMarks = 0\n",
    "if a<=b and a<=c:\n",
    "    avgMarks = (b+c)/2\n",
    "elif b<=a and b<=c:\n",
    "    avgMarks = (a+c)/2\n",
    "else:\n",
    "    avgMarks = (a+b)/2\n",
    "    \n",
    "print(\"The average of best two test marks: \", avgMarks)"
   ]
  },
  {
   "cell_type": "code",
   "execution_count": 9,
   "id": "9c1f6780",
   "metadata": {},
   "outputs": [
    {
     "name": "stdout",
     "output_type": "stream",
     "text": [
      "Enter a number: 1234554321\n",
      "Palindorme\n",
      "5 appears 2 times\n",
      "1 appears 2 times\n",
      "3 appears 2 times\n",
      "4 appears 2 times\n",
      "2 appears 2 times\n"
     ]
    }
   ],
   "source": [
    "# 1b) palindrome or not and occurences of each digit in a no\n",
    "a = (input(\"Enter a number: \"))\n",
    "\n",
    "if a == a[::-1]:\n",
    "    print(\"Palindorme\")\n",
    "else: \n",
    "    print(\"Not a palindrome\")\n",
    "    \n",
    "for i in set(a):\n",
    "    print(i, \"appears\", a.count(str(i)), \"times\")"
   ]
  },
  {
   "cell_type": "code",
   "execution_count": 18,
   "id": "4d6e46e5",
   "metadata": {},
   "outputs": [
    {
     "name": "stdout",
     "output_type": "stream",
     "text": [
      "Enter a positive no: 5\n",
      "Fibonacci series:  5\n"
     ]
    }
   ],
   "source": [
    "# 2a) fibonacci\n",
    "\n",
    "def fib(n):\n",
    "    if n<=1:\n",
    "        return n\n",
    "    else: \n",
    "        return fib(n-1) + fib(n-2)\n",
    "    \n",
    "a = int(input(\"Enter a positive no: \"))\n",
    "print(\"Fibonacci series: \", fib(a))"
   ]
  },
  {
   "cell_type": "code",
   "execution_count": null,
   "id": "d3e48a5a",
   "metadata": {},
   "outputs": [],
   "source": [
    "# 2b) "
   ]
  },
  {
   "cell_type": "code",
   "execution_count": 24,
   "id": "078edc4d",
   "metadata": {},
   "outputs": [
    {
     "name": "stdout",
     "output_type": "stream",
     "text": [
      "Enter a sentence: Hello Rnsit 2001, &\n",
      "No of words, digits, lwr, upr:  4 4 8 2\n"
     ]
    }
   ],
   "source": [
    "# 3a) find no of words, digits, uppercases, lowercases\n",
    "\n",
    "a = input(\"Enter a sentence: \")\n",
    "dig = upr = lwr = 0\n",
    "\n",
    "wrds = a.split()\n",
    "for wrd in wrds:\n",
    "    for char in wrd: \n",
    "        if char>='0' and char <='9':\n",
    "            dig += 1\n",
    "        if char>='A' and char <= 'Z':\n",
    "            upr += 1\n",
    "        if char >= 'a' and char <= 'z':\n",
    "            lwr += 1\n",
    "        \n",
    "print(\"No of words, digits, lwr, upr: \",len(wrds), dig, lwr, upr)"
   ]
  }
 ],
 "metadata": {
  "kernelspec": {
   "display_name": "Python 3 (ipykernel)",
   "language": "python",
   "name": "python3"
  },
  "language_info": {
   "codemirror_mode": {
    "name": "ipython",
    "version": 3
   },
   "file_extension": ".py",
   "mimetype": "text/x-python",
   "name": "python",
   "nbconvert_exporter": "python",
   "pygments_lexer": "ipython3",
   "version": "3.10.8"
  }
 },
 "nbformat": 4,
 "nbformat_minor": 5
}

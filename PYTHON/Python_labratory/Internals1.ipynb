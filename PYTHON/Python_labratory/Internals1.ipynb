{
 "cells": [
  {
   "cell_type": "code",
   "execution_count": 5,
   "id": "ad969c96",
   "metadata": {},
   "outputs": [
    {
     "name": "stdout",
     "output_type": "stream",
     "text": [
      "Enter test 1 marks: 25\n",
      "Enter test 2 marks: 25\n",
      "Enter test 3 marks: 25\n",
      "The average of best two test marks:  25.0\n"
     ]
    }
   ],
   "source": [
    "# 1a) best of 2 test average\n",
    "a = int(input(\"Enter test 1 marks: \"))\n",
    "b = int(input(\"Enter test 2 marks: \"))\n",
    "c = int(input(\"Enter test 3 marks: \"))\n",
    "\n",
    "# avgMarks = 0\n",
    "if a<=b and a<=c:\n",
    "    avgMarks = (b+c)/2\n",
    "elif b<=a and b<=c:\n",
    "    avgMarks = (a+c)/2\n",
    "else:\n",
    "    avgMarks = (a+b)/2\n",
    "    \n",
    "print(\"The average of best two test marks: \", avgMarks)"
   ]
  },
  {
   "cell_type": "code",
   "execution_count": 9,
   "id": "4389d0e1",
   "metadata": {},
   "outputs": [
    {
     "name": "stdout",
     "output_type": "stream",
     "text": [
      "Enter a number: 1234554321\n",
      "Palindorme\n",
      "5 appears 2 times\n",
      "1 appears 2 times\n",
      "3 appears 2 times\n",
      "4 appears 2 times\n",
      "2 appears 2 times\n"
     ]
    }
   ],
   "source": [
    "# 1b) palindrome or not and occurences of each digit in a no\n",
    "a = (input(\"Enter a number: \"))\n",
    "\n",
    "if a == a[::-1]:\n",
    "    print(\"Palindorme\")\n",
    "else: \n",
    "    print(\"Not a palindrome\")\n",
    "    \n",
    "for i in set(a):\n",
    "    print(i, \"appears\", a.count(str(i)), \"times\")"
   ]
  },
  {
   "cell_type": "code",
   "execution_count": 18,
   "id": "4ce04350",
   "metadata": {},
   "outputs": [
    {
     "name": "stdout",
     "output_type": "stream",
     "text": [
      "Enter a positive no: 5\n",
      "Fibonacci series:  5\n"
     ]
    }
   ],
   "source": [
    "# 2a) fibonacci\n",
    "\n",
    "def fib(n):\n",
    "    if n<=1:\n",
    "        return n\n",
    "    else: \n",
    "        return fib(n-1) + fib(n-2)\n",
    "    \n",
    "a = int(input(\"Enter a positive no: \"))\n",
    "print(\"Fibonacci series: \", fib(a))"
   ]
  },
  {
   "cell_type": "code",
   "execution_count": 28,
   "id": "9cc7b083",
   "metadata": {},
   "outputs": [
    {
     "name": "stdout",
     "output_type": "stream",
     "text": [
      "Enter the Binary Number100\n",
      "Binary to Decimal is  4\n",
      "Enter the octal Number16\n",
      "Octal to Decimal is   E\n"
     ]
    }
   ],
   "source": [
    "# 2b) b2d and o2h\n",
    "\n",
    "def bin2Dec(bin):\n",
    "    dec = 0\n",
    "    for i in range(len(bin)):\n",
    "        dec += int(bin[i]) * ((2**(len(bin)-i-1)))\n",
    "    return dec\n",
    "\n",
    "def oct2Hex(oct):\n",
    "    dec = 0\n",
    "    for i in range(len(oct)):\n",
    "        dec += int(oct[i]) * ((8**(len(oct)-i-1)))\n",
    "    hexa=['0','1','2','3','4','5','6','7','8','9','A','B','C','D','E','F']\n",
    "    octHex = ' '\n",
    "    while dec > 0:\n",
    "        rem = dec % 16\n",
    "        octHex += hexa[rem]\n",
    "        dec = dec // 16\n",
    "        \n",
    "    return octHex\n",
    "\n",
    "bin=input(\"Enter the Binary Number\")\n",
    "print(\"Binary to Decimal is \",bin2Dec(bin))\n",
    "oct=input(\"Enter the octal Number\")\n",
    "print(\"Octal to Decimal is \",oct2Hex(oct))\n"
   ]
  },
  {
   "cell_type": "code",
   "execution_count": 24,
   "id": "c36e8d4e",
   "metadata": {},
   "outputs": [
    {
     "name": "stdout",
     "output_type": "stream",
     "text": [
      "Enter a sentence: Hello Rnsit 2001, &\n",
      "No of words, digits, lwr, upr:  4 4 8 2\n"
     ]
    }
   ],
   "source": [
    "# 3a) find no of words, digits, uppercases, lowercases\n",
    "\n",
    "a = input(\"Enter a sentence: \")\n",
    "dig = upr = lwr = 0\n",
    "\n",
    "wrds = a.split()\n",
    "for wrd in wrds:\n",
    "    for char in wrd: \n",
    "        if char>='0' and char <='9':\n",
    "            dig += 1\n",
    "        if char>='A' and char <= 'Z':\n",
    "            upr += 1\n",
    "        if char >= 'a' and char <= 'z':\n",
    "            lwr += 1\n",
    "        \n",
    "print(\"No of words, digits, lwr, upr: \",len(wrds), dig, lwr, upr)"
   ]
  },
  {
   "cell_type": "code",
   "execution_count": 28,
   "id": "562b558b",
   "metadata": {},
   "outputs": [
    {
     "name": "stdout",
     "output_type": "stream",
     "text": [
      "Enter string1: hello\n",
      "Enter string2: hello\n",
      "\n",
      "The total matched characters:  5  \n",
      "The similarity:  100.0\n"
     ]
    }
   ],
   "source": [
    "# 3b) Similarity bw two strings\n",
    "\n",
    "def compare(s, p):\n",
    "    count = 0\n",
    "    n = min(len(s), len(p))\n",
    "    for i in range(n):\n",
    "        if(s[i] == p[i]):\n",
    "            count += 1\n",
    "    return count\n",
    "\n",
    "s1 = input(\"Enter string1: \")\n",
    "s2 = input(\"Enter string2: \")\n",
    "\n",
    "m = max(len(s1), len(s2))\n",
    "count = compare(s1, s2)\n",
    "\n",
    "similarity = (count/m)*100\n",
    "print(\"\\nThe total matched characters: \", count, \" \\nThe similarity: \", similarity)"
   ]
  },
  {
   "cell_type": "code",
   "execution_count": 12,
   "id": "bb15a60d",
   "metadata": {},
   "outputs": [
    {
     "name": "stdout",
     "output_type": "stream",
     "text": [
      "Enter no of elements: 5\n",
      "Enter elements: \n",
      "5\n",
      "4\n",
      "3\n",
      "2\n",
      "1\n",
      "Before Sorting :  [5, 4, 3, 2, 1]\n",
      "After Merge Sort :  [1, 2, 3, 4, 5]\n",
      "After Insertion sort :  [1, 2, 3, 4, 5]\n"
     ]
    }
   ],
   "source": [
    "# 4a) Insertion + mergeSort\n",
    "def insertionSort(arr, n):\n",
    "    for i in range(1, n):\n",
    "        temp = arr[i]\n",
    "        j = i-1\n",
    "        while(j>=0 and arr[j] > temp):\n",
    "            arr[j+1] = arr[j]\n",
    "            j -= 1\n",
    "        arr[j+1] = temp\n",
    "    return arr\n",
    "\n",
    "def mergeSort(arr, l, h):\n",
    "    if l<h:\n",
    "        mid = (l+h)//2\n",
    "        mergeSort(arr, l, mid)\n",
    "        mergeSort(arr, mid+1, h)\n",
    "        merge(arr, l, mid, h)\n",
    "\n",
    "def merge(arr, l, m, h):\n",
    "    k = i = l\n",
    "    j = m + 1\n",
    "    B = [None]*len(arr)\n",
    "    while i<=m and j<=h:\n",
    "        if arr[i] < arr[j]:\n",
    "            B[k] = arr[i]\n",
    "            i += 1\n",
    "        else:\n",
    "            B[k] = arr[j]\n",
    "            j += 1\n",
    "        k += 1\n",
    "\n",
    "            \n",
    "    while i<=m:\n",
    "        B[k] = arr[i]\n",
    "        i += 1\n",
    "        k += 1 \n",
    "        \n",
    "    while j<=h:\n",
    "        B[k] = arr[j]\n",
    "        j += 1\n",
    "        k += 1\n",
    "        \n",
    "    i = l\n",
    "    while(i<=h):\n",
    "        arr[i] = B[i]\n",
    "        i += 1\n",
    "        \n",
    "    return arr\n",
    "\n",
    "n = int(input(\"Enter no of elements: \"))\n",
    "arr = [None]*n\n",
    "print(\"Enter elements: \")\n",
    "for i in range(n):\n",
    "    arr[i] = int(input())\n",
    "    \n",
    "print(\"Before Sorting : \",arr)\n",
    "mergeSort(arr, 0, len(arr)-1)\n",
    "print(\"After Merge Sort : \",arr)\n",
    "insertionSort(arr,n)\n",
    "print(\"After Insertion sort : \",arr)\n",
    "\n"
   ]
  },
  {
   "cell_type": "code",
   "execution_count": 16,
   "id": "28772434",
   "metadata": {
    "scrolled": false
   },
   "outputs": [
    {
     "name": "stdout",
     "output_type": "stream",
     "text": [
      "Enter roman no: V\n",
      "Integer val:  5\n"
     ]
    }
   ],
   "source": [
    "# 4b) Roman to integers\n",
    "\n",
    "def roman2Integer(roman_num):\n",
    "    roman_dict = {'I': 1, 'V':5, 'X':10, 'L':50, 'C':100, 'D':500, 'M':1000}\n",
    "    res = 0\n",
    "    pre_val = 0\n",
    "    for char in roman_num[::-1]:\n",
    "        value = roman_dict[char]\n",
    "        if value >= pre_val:\n",
    "            res += value\n",
    "        else:\n",
    "            res -= value\n",
    "        pre_val = value\n",
    "    return res\n",
    "\n",
    "n = input(\"Enter roman no: \")\n",
    "print(\"Integer val: \", roman2Integer(n))"
   ]
  },
  {
   "cell_type": "code",
   "execution_count": 20,
   "id": "317093e0",
   "metadata": {},
   "outputs": [
    {
     "name": "stdout",
     "output_type": "stream",
     "text": [
      "Enter phone no: 123-123-1234\n",
      "match\n",
      "valid\n"
     ]
    }
   ],
   "source": [
    "# 5a) phone no matching with and without regex\n",
    "import re\n",
    "\n",
    "def isPhoneNo1(n):\n",
    "    if(len(n)==12 and n[0:3].isdigit() and n[4:7].isdigit() and n[9:12].isdigit() and n[3] == '-' and n[7] == '-'):\n",
    "        print(\"match\")\n",
    "    else:\n",
    "        print(\"no match\")\n",
    "\n",
    "def isPhoneNo2(n): \n",
    "    pattern = ('\\d{3}-\\d{3}-\\d{4}')\n",
    "    result = re.match(pattern, n)\n",
    "    if result:\n",
    "        print(\"valid\")\n",
    "    else: \n",
    "        print(\"Invalid\")\n",
    "        \n",
    "n = input(\"Enter phone no: \")\n",
    "isPhoneNo1(n)\n",
    "isPhoneNo2(n)"
   ]
  },
  {
   "cell_type": "code",
   "execution_count": 26,
   "id": "d96d04fd",
   "metadata": {},
   "outputs": [
    {
     "name": "stdout",
     "output_type": "stream",
     "text": [
      "Enter phone no: +919743303226\n",
      "Enter email: hh@gmail.com\n",
      "Invalid phone number or email. <re.Match object; span=(0, 13), match='+919743303226'> None\n"
     ]
    }
   ],
   "source": [
    "# 5b) phone no and email using regex\n",
    "\n",
    "import re\n",
    "no_patt = (r'\\+\\d{12}$')\n",
    "mail_patt = (r'^[0-9a-zA-Z._]+gmail.com$')\n",
    "\n",
    "pn = input(\"Enter phone no: \")\n",
    "ml = input(\"Enter email: \");\n",
    "\n",
    "if re.match(no_patt, pn) and re.match(mail_patt, ml):\n",
    "    print(\"Both phone number and email are valid.\", re.match(no_patt, pn), re.match(mail_patt, ml) )\n",
    "else:\n",
    "    print(\"Invalid phone number or email.\", re.match(no_patt, pn), re.match(mail_patt, ml))"
   ]
  }
 ],
 "metadata": {
  "kernelspec": {
   "display_name": "Python 3 (ipykernel)",
   "language": "python",
   "name": "python3"
  },
  "language_info": {
   "codemirror_mode": {
    "name": "ipython",
    "version": 3
   },
   "file_extension": ".py",
   "mimetype": "text/x-python",
   "name": "python",
   "nbconvert_exporter": "python",
   "pygments_lexer": "ipython3",
   "version": "3.10.8"
  }
 },
 "nbformat": 4,
 "nbformat_minor": 5
}

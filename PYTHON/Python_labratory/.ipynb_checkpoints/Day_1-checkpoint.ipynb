{
 "cells": [
  {
   "cell_type": "code",
   "execution_count": 11,
   "id": "bc1773e7",
   "metadata": {},
   "outputs": [
    {
     "name": "stdout",
     "output_type": "stream",
     "text": [
      "Hello world\n"
     ]
    }
   ],
   "source": [
    "print(\"Hello world\")"
   ]
  },
  {
   "cell_type": "code",
   "execution_count": 4,
   "id": "cca0c2fb",
   "metadata": {},
   "outputs": [
    {
     "name": "stdout",
     "output_type": "stream",
     "text": [
      "Enter principle(amt), rate of intrest(%), time(yrs): \n",
      "200000\n",
      "7.8\n",
      "5\n",
      "Simple Intrest:  78000.0\n"
     ]
    }
   ],
   "source": [
    "# Simple intrest\n",
    "print(\"Enter principle(amt), rate of intrest(%), time(yrs): \")\n",
    "p = int(input())\n",
    "r = float(input())\n",
    "t = int(input())\n",
    "SI = (p*r*t)/100\n",
    "print(\"Simple Intrest: \", SI)"
   ]
  },
  {
   "cell_type": "code",
   "execution_count": 6,
   "id": "7ca95b64",
   "metadata": {},
   "outputs": [
    {
     "name": "stdout",
     "output_type": "stream",
     "text": [
      "Enter two numbers(a, b):\n",
      "2\n",
      "5\n",
      "Choose an operation: \n",
      "1. ADD, 2. SUB, 3. MUL, 4. DIV\n",
      "2\n",
      "Result:  -3\n"
     ]
    }
   ],
   "source": [
    "# Arithmetic operations\n",
    "print(\"Enter two numbers(a, b):\")\n",
    "a = int(input())\n",
    "b = int(input())\n",
    "print(\"Choose an operation: \")\n",
    "print(\"1. ADD, 2. SUB, 3. MUL, 4. DIV\")\n",
    "op = input()\n",
    "match op:\n",
    "    case \"1\":\n",
    "        print(\"Result: \", a+b)\n",
    "    case \"2\":\n",
    "        print(\"Result: \", a-b)\n",
    "    case \"3\":\n",
    "        print(\"Result: \", a*b)\n",
    "    case \"4\": \n",
    "        print(\"Result: \", a/b)\n",
    "    case default:\n",
    "        print(\"Invalid choice selected!\")"
   ]
  },
  {
   "cell_type": "code",
   "execution_count": 7,
   "id": "47c9a52d",
   "metadata": {},
   "outputs": [
    {
     "name": "stdout",
     "output_type": "stream",
     "text": [
      "For triangle: \n",
      "Enter length: 20\n",
      "Enter breadth: 30\n",
      "For circle: \n",
      "Enter radius: 34\n",
      "For prism: \n",
      "Enter length: 3\n",
      "Enter width: 2\n",
      "Enter height: 4\n",
      "Area of triangle:  300.0\n",
      "Area of circle:  3629.84\n",
      "Volume of prism:  24\n"
     ]
    }
   ],
   "source": [
    "# AREA of circle, triangle, VOLUME of prism:\n",
    "\n",
    "print(\"For triangle: \")\n",
    "l = int(input(\"Enter length: \"))\n",
    "b = int(input(\"Enter breadth: \"))\n",
    "print(\"For circle: \")\n",
    "r = int(input(\"Enter radius: \"))\n",
    "print(\"For prism: \")\n",
    "L = int(input(\"Enter length: \"))\n",
    "W = int(input(\"Enter width: \"))\n",
    "H = int(input(\"Enter height: \"))\n",
    "\n",
    "print(\"Area of triangle: \", 0.5*l*b)\n",
    "print(\"Area of circle: \", 3.14*r**2)\n",
    "print(\"Volume of prism: \", L*W*H)"
   ]
  },
  {
   "cell_type": "code",
   "execution_count": 8,
   "id": "78a4e85a",
   "metadata": {},
   "outputs": [
    {
     "name": "stdout",
     "output_type": "stream",
     "text": [
      "Enter temp in celsius: 32\n",
      "Temperature in faranheit:  89.6\n"
     ]
    }
   ],
   "source": [
    "# Faranheit to Celsius conversion\n",
    "c = int(input(\"Enter temperature in celsius: \"))\n",
    "f = (c * 9/5) + 32\n",
    "print(\"Temperature in faranheit: \", f)"
   ]
  },
  {
   "cell_type": "code",
   "execution_count": 10,
   "id": "58d1b981",
   "metadata": {},
   "outputs": [
    {
     "name": "stdout",
     "output_type": "stream",
     "text": [
      "Provide a number: -7\n",
      "The given number is Negative\n"
     ]
    }
   ],
   "source": [
    "# Given number is positive or negative\n",
    "a = int(input(\"Provide a number: \"))\n",
    "if a>=0:\n",
    "    print(\"The given number is positive\")\n",
    "else:\n",
    "    print(\"The given number is Negative\")"
   ]
  }
 ],
 "metadata": {
  "kernelspec": {
   "display_name": "Python 3 (ipykernel)",
   "language": "python",
   "name": "python3"
  },
  "language_info": {
   "codemirror_mode": {
    "name": "ipython",
    "version": 3
   },
   "file_extension": ".py",
   "mimetype": "text/x-python",
   "name": "python",
   "nbconvert_exporter": "python",
   "pygments_lexer": "ipython3",
   "version": "3.10.8"
  }
 },
 "nbformat": 4,
 "nbformat_minor": 5
}

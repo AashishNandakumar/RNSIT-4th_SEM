{
 "cells": [
  {
   "cell_type": "code",
   "execution_count": 18,
   "metadata": {},
   "outputs": [
    {
     "name": "stdout",
     "output_type": "stream",
     "text": [
      "a\n",
      "['a', 'b', 'c', 'd']\n",
      "['a', 'b', 'c']\n",
      "['b', 'c', 'd']\n",
      "['a', 'c']\n",
      "False\n",
      "['a', 100, 90, 'c', 'd']\n",
      "[True, 'a', 5, 4.9, 'Cherry']\n",
      "['a', 100, 90, 'c', 'd', True, 'a', 5, 4.9, 'Cherry']\n",
      "[True, 'Banana', 'a', 5, 4.9, 'Cherry']\n",
      "['a', 100, 90, 'd', True, 'a', 5, 4.9, 'Cherry']\n",
      "[True, 'Banana', 5, 4.9, 'Cherry']\n",
      "[True, 'Banana', 4.9, 'Cherry']\n",
      "[]\n",
      "[1, 2, 3, 'a', 'b', True, True, 'Banana', 4.9, 'Cherry']\n"
     ]
    }
   ],
   "source": [
    "# list : mutable, similar to linked list\n",
    "l1 = [\"a\", \"b\", \"c\", \"d\"]\n",
    "l2 = [True, \"a\", 5, 4.9]\n",
    "\n",
    "print(l1[0])\n",
    "print(l1[:])\n",
    "print(l1[:3])\n",
    "print(l1[1:])\n",
    "print(l1[0:3:2])\n",
    "\n",
    "\n",
    "l1[1] = False\n",
    "print(l1[1])\n",
    "\n",
    "l1[1:2] = 100, 90\n",
    "print(l1)\n",
    "\n",
    "# Adding a token\n",
    "l2.append(\"Cherry\")\n",
    "print(l2)\n",
    "\n",
    "# Adding another list\n",
    "l1.extend(l2)\n",
    "print(l1)\n",
    "\n",
    "# insert at specific position\n",
    "l2.insert(1, \"Banana\")\n",
    "print(l2)\n",
    "\n",
    "# deleting elemets\n",
    "l1.remove(\"c\")\n",
    "print(l1)\n",
    "\n",
    "del l2[2]\n",
    "print(l2)\n",
    "\n",
    "l2.pop(2)\n",
    "print(l2)\n",
    "\n",
    "l1.clear()\n",
    "print(l1)\n",
    "\n",
    "# concatenation\n",
    "l1 = [1, 2, 3, \"a\", \"b\", True]\n",
    "l1 += l2\n",
    "print(l1)"
   ]
  },
  {
   "cell_type": "code",
   "execution_count": 25,
   "metadata": {},
   "outputs": [
    {
     "name": "stdout",
     "output_type": "stream",
     "text": [
      "Enter no-1 56\n",
      "Enter no-2 67\n",
      "Enter no-3 456\n",
      "456 is largest\n"
     ]
    }
   ],
   "source": [
    "# Conditional statements:\n",
    "\n",
    "# largest of three numbers\n",
    "a = int(input(\"Enter no-1 \"))\n",
    "b = int(input(\"Enter no-2 \"))\n",
    "c = int(input(\"Enter no-3 \"))\n",
    "\n",
    "\n",
    "if a>b:\n",
    "    if a>c:\n",
    "        print(a, \"is largest\") \n",
    "    else:\n",
    "        print(c, \"is largest\")\n",
    "elif b>a:\n",
    "    if b>c:\n",
    "        print(b, \"is largest\")\n",
    "    else:\n",
    "        print(c, \"is largest\")\n",
    "else:\n",
    "    print(c, \"is largest\")"
   ]
  },
  {
   "cell_type": "code",
   "execution_count": 6,
   "metadata": {},
   "outputs": [
    {
     "name": "stdout",
     "output_type": "stream",
     "text": [
      "enter a year: 2040\n",
      "Entered year is a leap year\n"
     ]
    }
   ],
   "source": [
    "# leap year or not: \n",
    "\n",
    "yr = int(input(\"enter a year: \"))\n",
    "\n",
    "if yr % 4 == 0 and yr % 100 != 0 or yr % 400 == 0:\n",
    "    print(\"Entered year is a leap year\")\n",
    "else: \n",
    "    print(\"Entered year is not a leap year!!\")\n",
    "    "
   ]
  },
  {
   "cell_type": "code",
   "execution_count": 7,
   "metadata": {},
   "outputs": [
    {
     "name": "stdout",
     "output_type": "stream",
     "text": [
      "Enter ur age: 18\n",
      "You are eligible for voting\n"
     ]
    }
   ],
   "source": [
    "# eligible for voting or not\n",
    "age = int(input(\"Enter ur age: \"))\n",
    "\n",
    "if age >= 18:\n",
    "    print(\"You are eligible for voting\")\n",
    "else:\n",
    "    print(\"Not eligible for voting\")"
   ]
  },
  {
   "cell_type": "code",
   "execution_count": 9,
   "metadata": {},
   "outputs": [
    {
     "name": "stdout",
     "output_type": "stream",
     "text": [
      "Enter marks: 55\n",
      "E\n"
     ]
    }
   ],
   "source": [
    "# student grade point execution\n",
    "\n",
    "marks = int(input(\"Enter marks: \"))\n",
    "\n",
    "if marks>=90 and marks <=100:\n",
    "    print(\"A\")\n",
    "elif marks>=80 and marks <90:\n",
    "    print(\"B\")\n",
    "elif marks>=70 and marks <80:\n",
    "    print(\"C\")   \n",
    "elif marks>=60 and marks <70:\n",
    "    print(\"D\")\n",
    "else: \n",
    "    print(\"E\")"
   ]
  },
  {
   "cell_type": "code",
   "execution_count": 14,
   "metadata": {},
   "outputs": [
    {
     "name": "stdout",
     "output_type": "stream",
     "text": [
      "Enter sub-1 marks: 67\n",
      "Enter sub-2 marks: 98\n",
      "Enter sub-3 marks: 34\n",
      "82.5 is the best average\n"
     ]
    }
   ],
   "source": [
    "# 1_a\n",
    "\n",
    "a = int(input(\"Enter sub-1 marks: \"))\n",
    "b = int(input(\"Enter sub-2 marks: \"))\n",
    "c = int(input(\"Enter sub-3 marks: \"))\n",
    "\n",
    "avg1 = (a+b)/2\n",
    "avg2 = (a+c)/2\n",
    "avg3 = (b+c)/2\n",
    "\n",
    "\n",
    "if avg1>avg2:\n",
    "    if avg1>avg3:\n",
    "        print(avg1,\"is the best average\")\n",
    "    else: \n",
    "        print(avg3,\"is the best average\")\n",
    "elif avg2>avg1:\n",
    "    if avg2>avg3:\n",
    "        print(avg2,\"is the best average\")\n",
    "    else:\n",
    "        print(avg3,\"is the best average\")\n",
    "else: \n",
    "    print(avg3,\"is the best average\")"
   ]
  },
  {
   "cell_type": "code",
   "execution_count": 29,
   "metadata": {},
   "outputs": [
    {
     "name": "stdout",
     "output_type": "stream",
     "text": [
      "Enter number: 12345543216\n",
      "They are not palindrome\n",
      "1 is repeating:  2\n",
      "2 is repeating:  2\n",
      "3 is repeating:  2\n",
      "4 is repeating:  2\n",
      "5 is repeating:  2\n",
      "6 is repeating:  1\n"
     ]
    }
   ],
   "source": [
    "# check for palindrome\n",
    "\n",
    "ptr = input(\"Enter number: \")\n",
    "revPtr = ptr[::-1]\n",
    "\n",
    "if ptr == revPtr:\n",
    "    print(\"They are palindrome\")\n",
    "else:\n",
    "    print(\"They are not palindrome\")\n",
    "    \n",
    "# occurences of numbers\n",
    "for i in range(len(ptr)):\n",
    "    if (ptr.count(str(i))>0):\n",
    "         print(str(i),\"is repeating: \",ptr.count(str(i)))"
   ]
  },
  {
   "cell_type": "code",
   "execution_count": null,
   "metadata": {},
   "outputs": [],
   "source": []
  }
 ],
 "metadata": {
  "kernelspec": {
   "display_name": "Python 3 (ipykernel)",
   "language": "python",
   "name": "python3"
  },
  "language_info": {
   "codemirror_mode": {
    "name": "ipython",
    "version": 3
   },
   "file_extension": ".py",
   "mimetype": "text/x-python",
   "name": "python",
   "nbconvert_exporter": "python",
   "pygments_lexer": "ipython3",
   "version": "3.10.8"
  }
 },
 "nbformat": 4,
 "nbformat_minor": 2
}
